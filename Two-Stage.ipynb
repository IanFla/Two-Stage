{
 "cells": [
  {
   "cell_type": "code",
   "execution_count": 1,
   "metadata": {},
   "outputs": [],
   "source": [
    "from matplotlib import pyplot as plt\n",
    "import seaborn as sb\n",
    "import numpy as np\n",
    "from scipy.stats import uniform,norm,t,binom,expon,chi2,gamma,poisson,beta,dirichlet,triang\n",
    "from scipy.stats import multivariate_normal as multi_norm\n",
    "from scipy.stats import multivariate_t as multi_t\n",
    "from sklearn.neighbors import KernelDensity as KDE\n",
    "from scipy.spatial import Delaunay as TRI\n",
    "from scipy.interpolate import LinearNDInterpolator as ITP\n",
    "from scipy.optimize import brentq\n",
    "from scipy.special import perm,comb\n",
    "import time\n",
    "import pandas as pd"
   ]
  },
  {
   "cell_type": "code",
   "execution_count": 2,
   "metadata": {},
   "outputs": [],
   "source": [
    "class TSIS():\n",
    "    def __init__(self,p,num,seed,sigma):\n",
    "        self.p=p\n",
    "        np.random.seed(seed)\n",
    "        self.locs=multi_norm.rvs(size=num,mean=np.zeros(p),cov=sigma**2)\n",
    "        def T1(x):\n",
    "            y=np.zeros(x.shape[0])\n",
    "            for loc in self.locs:\n",
    "                y+=multi_norm.pdf(x=x,mean=loc)\n",
    "                \n",
    "            return y\n",
    "                \n",
    "        def T2(x):\n",
    "            y=np.zeros(x.shape[0])\n",
    "            for loc in self.locs:\n",
    "                y+=0.2*multi_t.pdf(x=x,df=4,loc=loc)+0.8*multi_norm.pdf(x=x,mean=loc)\n",
    "                \n",
    "            return y\n",
    "                \n",
    "        self.T=[T1,T2]\n",
    "        \n",
    "    def set_proposal(self,k,sigma):\n",
    "        def P1(x):\n",
    "            y=np.zeros(x.shape[0])\n",
    "            for loc in self.locs:\n",
    "                y+=multi_t.pdf(x=x,df=k,loc=loc)\n",
    "            \n",
    "            return y/self.locs.shape[0]\n",
    "        \n",
    "        def P2(x):\n",
    "            y=np.zeros(x.shape[0])\n",
    "            for loc in self.locs:\n",
    "                y+=multi_norm.pdf(x=x,mean=loc,cov=sigma**2)\n",
    "                \n",
    "            return y/self.locs.shape[0]\n",
    "        \n",
    "        def S1(size):\n",
    "            S=np.zeros([size,self.p])\n",
    "            choose=np.random.choice(np.arange(self.locs.shape[0]),size=size)\n",
    "            for i in range(size):\n",
    "                S[i]=multi_t.rvs(df=k,loc=self.locs[choose[i]])\n",
    "                \n",
    "            return S\n",
    "        \n",
    "        def S2(size):\n",
    "            S=np.zeros([size,self.p])\n",
    "            choose=np.random.choice(np.arange(self.locs.shape[0]),size=size)\n",
    "            for i in range(size):\n",
    "                S[i]=multi_norm.rvs(mean=self.locs[choose[i]],cov=sigma**2)\n",
    "                \n",
    "            return S\n",
    "        \n",
    "        self.P=[P1,P2]\n",
    "        self.S=[S1,S2]\n",
    "        \n",
    "    def estimate(self,P,S):\n",
    "        W1=self.T[0](S)/P(S)\n",
    "        W2=self.T[1](S)/P(S)\n",
    "        self.Z1=np.mean(W1)\n",
    "        self.Z2=np.mean(W2)\n",
    "        self.nMSE1=np.var(W1)\n",
    "        self.nMSE2=np.var(W2)\n",
    "        print(self.Z1,self.Z2)\n",
    "        print(self.nMSE1,self.nMSE2)\n",
    "        \n",
    "    def UIS(self,size):\n",
    "        self.estimate(self.P[1],self.S[1](size))\n",
    "        \n",
    "    def PIS(self,size):\n",
    "        self.estimate(self.P[0],self.S[0](size))\n",
    "        \n",
    "    def SIS(self,size):\n",
    "        S=np.vstack([self.S[0](int(size/2)),self.S[1](int(size/2))])\n",
    "        P=lambda x: (self.P[0](x)+self.P[1](x))/2\n",
    "        self.estimate(P,S)\n",
    "        \n",
    "    def RIS(self,size):\n",
    "        pass"
   ]
  },
  {
   "cell_type": "code",
   "execution_count": 3,
   "metadata": {},
   "outputs": [
    {
     "name": "stdout",
     "output_type": "stream",
     "text": [
      "UIS:\n",
      "10.0 9.75080168212267\n",
      "0.0 4.150518916646457\n",
      "PIS:\n",
      "9.961819651357363 9.973553599909085\n",
      "170.26717382400878 135.57157729267473\n",
      "SIS:\n",
      "9.860586918788963 9.909034577487537\n",
      "39.86013918754677 26.941506601049362\n"
     ]
    }
   ],
   "source": [
    "tsis=TSIS(p=10,num=10,seed=123456,sigma=2)\n",
    "tsis.set_proposal(k=1,sigma=1)\n",
    "print('UIS:')\n",
    "tsis.UIS(1000)\n",
    "print('PIS:')\n",
    "tsis.PIS(1000)\n",
    "print('SIS:')\n",
    "tsis.SIS(1000)"
   ]
  },
  {
   "cell_type": "code",
   "execution_count": null,
   "metadata": {},
   "outputs": [],
   "source": []
  },
  {
   "cell_type": "code",
   "execution_count": null,
   "metadata": {},
   "outputs": [],
   "source": []
  }
 ],
 "metadata": {
  "kernelspec": {
   "display_name": "Python 3",
   "language": "python",
   "name": "python3"
  },
  "language_info": {
   "codemirror_mode": {
    "name": "ipython",
    "version": 3
   },
   "file_extension": ".py",
   "mimetype": "text/x-python",
   "name": "python",
   "nbconvert_exporter": "python",
   "pygments_lexer": "ipython3",
   "version": "3.9.1"
  }
 },
 "nbformat": 4,
 "nbformat_minor": 4
}
