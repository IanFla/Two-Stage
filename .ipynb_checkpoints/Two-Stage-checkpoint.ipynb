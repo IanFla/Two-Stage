{
 "cells": [
  {
   "cell_type": "code",
   "execution_count": null,
   "metadata": {},
   "outputs": [
    {
     "name": "stdout",
     "output_type": "stream",
     "text": [
      "Updating Homebrew...\n",
      "\u001b[34m==>\u001b[0m \u001b[1mDownloading https://homebrew.bintray.com/bottles/gettext-0.21.big_sur.bottle\u001b[0m\n",
      "\u001b[34m==>\u001b[0m \u001b[1mDownloading from https://d29vzk4ow07wi7.cloudfront.net/a025e143fe3f5f7e24a93\u001b[0m\n",
      "######################################################################## 100.0%\n",
      "\u001b[34m==>\u001b[0m \u001b[1mDownloading https://homebrew.bintray.com/bottles/pcre2-10.36.big_sur.bottle.\u001b[0m\n",
      "\u001b[34m==>\u001b[0m \u001b[1mDownloading from https://d29vzk4ow07wi7.cloudfront.net/b2edbffaf229fc490843e\u001b[0m\n",
      "######################################################################## 100.0%\n",
      "\u001b[34m==>\u001b[0m \u001b[1mDownloading https://homebrew.bintray.com/bottles/git-2.29.2.big_sur.bottle.t\u001b[0m\n",
      "\u001b[34m==>\u001b[0m \u001b[1mDownloading from https://d29vzk4ow07wi7.cloudfront.net/99ffa981e42bfb6ed77fc\u001b[0m\n",
      "######################################################################## 100.0%\n",
      "\u001b[32m==>\u001b[0m \u001b[1mInstalling dependencies for git: \u001b[32mgettext\u001b[39m and \u001b[32mpcre2\u001b[39m\u001b[0m\n",
      "\u001b[32m==>\u001b[0m \u001b[1mInstalling git dependency: \u001b[32mgettext\u001b[39m\u001b[0m\n",
      "\u001b[34m==>\u001b[0m \u001b[1mPouring gettext-0.21.big_sur.bottle.tar.gz\u001b[0m\n",
      "🍺  /usr/local/Cellar/gettext/0.21: 1,953 files, 19.8MB\n",
      "\u001b[32m==>\u001b[0m \u001b[1mInstalling git dependency: \u001b[32mpcre2\u001b[39m\u001b[0m\n",
      "\u001b[34m==>\u001b[0m \u001b[1mPouring pcre2-10.36.big_sur.bottle.tar.gz\u001b[0m\n",
      "🍺  /usr/local/Cellar/pcre2/10.36: 230 files, 6.2MB\n",
      "\u001b[32m==>\u001b[0m \u001b[1mInstalling \u001b[32mgit\u001b[39m\u001b[0m\n",
      "\u001b[34m==>\u001b[0m \u001b[1mPouring git-2.29.2.big_sur.bottle.tar.gz\u001b[0m\n",
      "\u001b[34m==>\u001b[0m \u001b[1mCaveats\u001b[0m\n",
      "The Tcl/Tk GUIs (e.g. gitk, git-gui) are now in the `git-gui` formula.\n",
      "\n",
      "zsh completions and functions have been installed to:\n",
      "  /usr/local/share/zsh/site-functions\n",
      "\n",
      "Emacs Lisp files have been installed to:\n",
      "  /usr/local/share/emacs/site-lisp/git\n",
      "\u001b[34m==>\u001b[0m \u001b[1mSummary\u001b[0m\n",
      "🍺  /usr/local/Cellar/git/2.29.2: 1,480 files, 39.7MB\n",
      "\u001b[34m==>\u001b[0m \u001b[1m`brew cleanup` has not been run in 30 days, running now...\u001b[0m\n",
      "Removing: /Users/ianfla/Library/Logs/Homebrew/gdbm... (64B)\n",
      "Removing: /Users/ianfla/Library/Logs/Homebrew/readline... (64B)\n",
      "Removing: /Users/ianfla/Library/Logs/Homebrew/sqlite... (64B)\n",
      "Removing: /Users/ianfla/Library/Logs/Homebrew/xz... (64B)\n",
      "Removing: /Users/ianfla/Library/Logs/Homebrew/openssl@1.1... (64B)\n",
      "Removing: /Users/ianfla/Library/Logs/Homebrew/python@3.9... (2 files, 752.8KB)\n",
      "Pruned 0 symbolic links and 3 directories from /usr/local\n",
      "\u001b[32m==>\u001b[0m \u001b[1mCaveats\u001b[0m\n",
      "\u001b[34m==>\u001b[0m \u001b[1mgit\u001b[0m\n",
      "The Tcl/Tk GUIs (e.g. gitk, git-gui) are now in the `git-gui` formula.\n",
      "\n",
      "zsh completions and functions have been installed to:\n",
      "  /usr/local/share/zsh/site-functions\n",
      "\n",
      "Emacs Lisp files have been installed to:\n",
      "  /usr/local/share/emacs/site-lisp/git\n"
     ]
    }
   ],
   "source": [
    "!brew install git"
   ]
  }
 ],
 "metadata": {
  "kernelspec": {
   "display_name": "Python 3",
   "language": "python",
   "name": "python3"
  },
  "language_info": {
   "codemirror_mode": {
    "name": "ipython",
    "version": 3
   },
   "file_extension": ".py",
   "mimetype": "text/x-python",
   "name": "python",
   "nbconvert_exporter": "python",
   "pygments_lexer": "ipython3",
   "version": "3.9.1"
  }
 },
 "nbformat": 4,
 "nbformat_minor": 4
}
