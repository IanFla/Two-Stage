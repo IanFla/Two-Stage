{
 "cells": [
  {
   "cell_type": "code",
   "execution_count": null,
   "metadata": {},
   "outputs": [],
   "source": [
    "for d in D:\n",
    "    for alpha in Alpha:\n",
    "        mle=MLE(garch=garch,d=d,alpha=alpha,size=100000)\n",
    "        print('Reference for VaR{} (d={}): {}'.format(alpha,d,Truth[D==d,Alpha==alpha]))\n",
    "        print('==IS==================================================IS==')\n",
    "        mle.estimate_IS()\n",
    "        print('==NIS================================================NIS==')\n",
    "        mle.resample(size=1000,ratio=100)\n",
    "        mle.estimate_NIS(rate=0.9)\n",
    "        print('==RIS================================================RIS==')\n",
    "        mle.estimate_RIS()\n",
    "        if alpha>0.02:\n",
    "            print('++++++++++++++++++++++++++++++++++++++++++++++++++++++++++')\n",
    "        \n",
    "    if d<4:\n",
    "        print('==========================================================')\n",
    "        print('++++++++++++++++++++++++++++++++++++++++++++++++++++++++++')\n",
    "        print('==========================================================')"
   ]
  },
  {
   "cell_type": "code",
   "execution_count": null,
   "metadata": {},
   "outputs": [],
   "source": []
  },
  {
   "cell_type": "code",
   "execution_count": null,
   "metadata": {},
   "outputs": [],
   "source": []
  },
  {
   "cell_type": "code",
   "execution_count": null,
   "metadata": {},
   "outputs": [],
   "source": []
  }
 ],
 "metadata": {
  "kernelspec": {
   "display_name": "Python 3",
   "language": "python",
   "name": "python3"
  },
  "language_info": {
   "codemirror_mode": {
    "name": "ipython",
    "version": 3
   },
   "file_extension": ".py",
   "mimetype": "text/x-python",
   "name": "python",
   "nbconvert_exporter": "python",
   "pygments_lexer": "ipython3",
   "version": "3.9.2"
  }
 },
 "nbformat": 4,
 "nbformat_minor": 4
}
