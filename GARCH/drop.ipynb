{
 "cells": [
  {
   "cell_type": "code",
   "execution_count": null,
   "metadata": {},
   "outputs": [],
   "source": [
    "for d in D:\n",
    "    for alpha in Alpha:\n",
    "        mle=MLE(garch=garch,d=d,alpha=alpha,size=100000)\n",
    "        print('Reference for VaR{} (d={}): {}'.format(alpha,d,Truth[D==d,Alpha==alpha]))\n",
    "        print('==IS==================================================IS==')\n",
    "        mle.estimate_IS()\n",
    "        print('==NIS================================================NIS==')\n",
    "        mle.resample(size=1000,ratio=100)\n",
    "        mle.estimate_NIS(rate=0.9)\n",
    "        print('==RIS================================================RIS==')\n",
    "        mle.estimate_RIS()\n",
    "        if alpha>0.02:\n",
    "            print('++++++++++++++++++++++++++++++++++++++++++++++++++++++++++')\n",
    "        \n",
    "    if d<4:\n",
    "        print('==========================================================')\n",
    "        print('++++++++++++++++++++++++++++++++++++++++++++++++++++++++++')\n",
    "        print('==========================================================')"
   ]
  },
  {
   "cell_type": "code",
   "execution_count": null,
   "metadata": {},
   "outputs": [],
   "source": [
    "class Thread (threading.Thread):\n",
    "    def __init__(self,d,alpha):\n",
    "        super(Thread,self).__init__()\n",
    "        self.d=d\n",
    "        self.alpha=alpha\n",
    "        \n",
    "    def run(self):\n",
    "        mle=MLE(garch=garch,d=self.d,alpha=self.alpha,size=100000)\n",
    "        print('Reference for VaR{} (d={}): {}'.format(self.alpha,self.d,Truth[D==self.d,Alpha==self.alpha]))\n",
    "        print('==IS==================================================IS==')\n",
    "        mle.estimate_IS()\n",
    "        print('==NIS================================================NIS==')\n",
    "        mle.resample(size=1000,ratio=100)\n",
    "        mle.estimate_NIS(rate=0.9)\n",
    "        print('==RIS================================================RIS==')\n",
    "        mle.estimate_RIS()\n",
    "        \n",
    "threads=[]\n",
    "for d in D:\n",
    "    for alpha in Alpha:\n",
    "        threads.append(Thread(d,alpha))"
   ]
  },
  {
   "cell_type": "code",
   "execution_count": null,
   "metadata": {},
   "outputs": [],
   "source": []
  },
  {
   "cell_type": "code",
   "execution_count": null,
   "metadata": {},
   "outputs": [],
   "source": []
  }
 ],
 "metadata": {
  "kernelspec": {
   "display_name": "Python 3",
   "language": "python",
   "name": "python3"
  },
  "language_info": {
   "codemirror_mode": {
    "name": "ipython",
    "version": 3
   },
   "file_extension": ".py",
   "mimetype": "text/x-python",
   "name": "python",
   "nbconvert_exporter": "python",
   "pygments_lexer": "ipython3",
   "version": "3.9.2"
  }
 },
 "nbformat": 4,
 "nbformat_minor": 4
}
