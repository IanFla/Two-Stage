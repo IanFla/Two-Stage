{
 "cells": [
  {
   "cell_type": "code",
   "execution_count": 1,
   "metadata": {},
   "outputs": [],
   "source": [
    "import numpy as np\n",
    "import pandas as pd\n",
    "from matplotlib import pyplot as plt\n",
    "from datetime import datetime as dt\n",
    "from pandas_datareader import DataReader as DR\n",
    "import seaborn as sb\n",
    "import numdifftools as nd\n",
    "from wquantiles import quantile\n",
    "\n",
    "from scipy.stats import multivariate_normal as multi_norm\n",
    "from scipy.stats import multivariate_t as multi_t\n",
    "from scipy.stats import norm,t,truncnorm\n",
    "from scipy.spatial import Delaunay as TRI\n",
    "from scipy.interpolate import LinearNDInterpolator as ITP\n",
    "from scipy.optimize import minimize\n",
    "from scipy.stats import gaussian_kde as KDE\n",
    "\n",
    "from sklearn.linear_model import LinearRegression as Linear\n",
    "from sklearn.linear_model import Ridge\n",
    "from sklearn.linear_model import Lasso\n",
    "\n",
    "import warnings\n",
    "warnings.filterwarnings(\"ignore\")"
   ]
  },
  {
   "cell_type": "code",
   "execution_count": null,
   "metadata": {},
   "outputs": [],
   "source": [
    "class MLE:\n",
    "    def __init__(self,dim,sigmaT,sigmaiP,df):\n",
    "        self.dim=dim\n",
    "        self.T=lambda x: norm.pdf(x=x,mean=np.zeros(dim),cov=sigmaT**2)\n",
    "        self.T_1d=lambda x: norm.pdf(x=x,scale=sigmaT)\n",
    "        self.iP=lambda x: t.pdf(x=x,df=k,loc=np.zeros(dim),shape=sigmaiP**2)\n",
    "        self.iP_1d=lambda x: t.pdf(x=x,df=k,shape=sigmaT**2)\n",
    "        self.iS=lambda size: t.rvs(size=size,df=k,loc=np.zeros(p),shape=sigmaT**2)\n"
   ]
  },
  {
   "cell_type": "code",
   "execution_count": null,
   "metadata": {},
   "outputs": [],
   "source": []
  },
  {
   "cell_type": "code",
   "execution_count": null,
   "metadata": {},
   "outputs": [],
   "source": []
  },
  {
   "cell_type": "code",
   "execution_count": null,
   "metadata": {},
   "outputs": [],
   "source": []
  },
  {
   "cell_type": "code",
   "execution_count": null,
   "metadata": {},
   "outputs": [],
   "source": []
  },
  {
   "cell_type": "code",
   "execution_count": null,
   "metadata": {},
   "outputs": [],
   "source": []
  },
  {
   "cell_type": "code",
   "execution_count": null,
   "metadata": {},
   "outputs": [],
   "source": []
  },
  {
   "cell_type": "code",
   "execution_count": null,
   "metadata": {},
   "outputs": [],
   "source": []
  }
 ],
 "metadata": {
  "kernelspec": {
   "display_name": "Python 3",
   "language": "python",
   "name": "python3"
  },
  "language_info": {
   "codemirror_mode": {
    "name": "ipython",
    "version": 3
   },
   "file_extension": ".py",
   "mimetype": "text/x-python",
   "name": "python",
   "nbconvert_exporter": "python",
   "pygments_lexer": "ipython3",
   "version": "3.9.2"
  }
 },
 "nbformat": 4,
 "nbformat_minor": 4
}
