{
 "cells": [
  {
   "cell_type": "code",
   "execution_count": 1,
   "metadata": {},
   "outputs": [],
   "source": [
    "# from scipy.optimize import NonlinearConstraint as NonlinCons"
   ]
  },
  {
   "cell_type": "code",
   "execution_count": 2,
   "metadata": {},
   "outputs": [],
   "source": [
    "# hessian=lambda zeta: (G.T/(mP+G.dot(zeta))**2).dot(G)/G.shape[1]\n",
    "# cons=NonlinCons(lambda zeta: mP+G.dot(zeta),0,np.inf,jac=lambda zeta: G)\n",
    "#             res=minimize(target,zeta0,method='trust-constr',jac=gradient,hess=hessian,\\\n",
    "#                          constraints=cons,options={'xtol':1e-5,'gtol':1e-5,'maxiter':10000,'verbose':2})"
   ]
  },
  {
   "cell_type": "code",
   "execution_count": 3,
   "metadata": {},
   "outputs": [],
   "source": [
    "import cvxpy as cp"
   ]
  },
  {
   "cell_type": "code",
   "execution_count": 4,
   "metadata": {},
   "outputs": [],
   "source": [
    "zeta=cp.Variable(G.shape[1])\n",
    "logprob=cp.sum(cp.log(mP+G@zeta))\n",
    "obj=cp.Maximize(logprob)\n",
    "cons=[mP+G@zeta>=0]\n",
    "prob=cp.Problem(obj,cons)\n",
    "prob.solve(solver=solver,verbose=True,max_iters=500,feastol_inacc=1e-100)\n",
    "print('Optimization status: {}; final value: {}'.format(prob.status,prob.value))\n",
    "zeta=zeta.value"
   ]
  },
  {
   "cell_type": "code",
   "execution_count": null,
   "metadata": {},
   "outputs": [],
   "source": [
    "begin=dt.now()\n",
    "end=dt.now()\n",
    "print('spent {} seconds'.format((end-begin).seconds))"
   ]
  },
  {
   "cell_type": "code",
   "execution_count": null,
   "metadata": {},
   "outputs": [],
   "source": []
  },
  {
   "cell_type": "code",
   "execution_count": null,
   "metadata": {},
   "outputs": [],
   "source": []
  },
  {
   "cell_type": "code",
   "execution_count": 5,
   "metadata": {},
   "outputs": [
    {
     "name": "stdout",
     "output_type": "stream",
     "text": [
      "[1. 2.]\n"
     ]
    }
   ],
   "source": [
    "import numpy as np\n",
    "from sklearn.linear_model import LinearRegression\n",
    "X = np.array([[1, 1], [1, 2], [2, 2], [2, 3]])\n",
    "# y = 1 * x_0 + 2 * x_1 + 3\n",
    "y = np.dot(X, np.array([1, 2])) + 3\n",
    "reg = LinearRegression().fit(X, y)\n",
    "print(reg.coef_)"
   ]
  },
  {
   "cell_type": "code",
   "execution_count": 15,
   "metadata": {},
   "outputs": [
    {
     "name": "stdout",
     "output_type": "stream",
     "text": [
      "[3. 1. 2.]\n"
     ]
    }
   ],
   "source": [
    "XX=np.hstack([np.ones([4,1]),X])\n",
    "beta=np.linalg.solve(XX.T.dot(XX),XX.T.dot(y))\n",
    "print(beta)"
   ]
  },
  {
   "cell_type": "code",
   "execution_count": null,
   "metadata": {},
   "outputs": [],
   "source": []
  },
  {
   "cell_type": "code",
   "execution_count": null,
   "metadata": {},
   "outputs": [],
   "source": []
  },
  {
   "cell_type": "code",
   "execution_count": null,
   "metadata": {},
   "outputs": [],
   "source": [
    "if(all(mP+zeta1.dot(G)>0)):\n",
    "    zeta=zeta1\n",
    "else:\n",
    "    zeta=zeta0\n",
    "\n",
    "begin=dt.now()\n",
    "cons=({'type':'ineq','fun':lambda zeta: mP+zeta.dot(G),'jac':lambda zeta: G.T})\n",
    "res=minimize(target,zeta,method='SLSQP',jac=gradient,constraints=cons,\\\n",
    "             options={'ftol':1e-10,'maxiter':1000})\n",
    "end=dt.now()\n",
    "print()\n",
    "print('Optimization results:')\n",
    "print('MLE nit: {}, spent {} seconds! '.format(res['nit'],(end-begin).seconds))\n",
    "if res['success']:\n",
    "    zeta=res['x']\n",
    "    print('MLE(Opt) zeta: (min {:.4f}, mean {:.4f}, max {:.4f}, std {:.4f}, norm {:.4f})'\\\n",
    "          .format(zeta.min(),zeta.mean(),zeta.max(),zeta.std(),np.sqrt(np.sum(zeta**2))))\n",
    "    print('Dist(zeta(Opt),zeta(The))={:.4f}'.format(np.sqrt(np.sum((zeta-zeta1)**2))))\n",
    "    grad=gradient(zeta)\n",
    "    print('optimal: value: {:.4f}; grad: (min {:.4f}, mean {:.4f}, max {:.4f}, std {:.4f})'\\\n",
    "          .format(target(zeta),grad.min(),grad.mean(),grad.max(),grad.std()))\n",
    "    W=self.T(self.S)/(mP+zeta.dot(G))\n",
    "    self.__estimate(W,'MLE(Opt)',asym=False)\n",
    "else:\n",
    "    print('MLE fail')"
   ]
  },
  {
   "cell_type": "code",
   "execution_count": null,
   "metadata": {},
   "outputs": [],
   "source": []
  },
  {
   "cell_type": "code",
   "execution_count": null,
   "metadata": {},
   "outputs": [],
   "source": []
  },
  {
   "cell_type": "code",
   "execution_count": null,
   "metadata": {},
   "outputs": [],
   "source": []
  },
  {
   "cell_type": "code",
   "execution_count": null,
   "metadata": {},
   "outputs": [],
   "source": []
  }
 ],
 "metadata": {
  "kernelspec": {
   "display_name": "Python 3",
   "language": "python",
   "name": "python3"
  },
  "language_info": {
   "codemirror_mode": {
    "name": "ipython",
    "version": 3
   },
   "file_extension": ".py",
   "mimetype": "text/x-python",
   "name": "python",
   "nbconvert_exporter": "python",
   "pygments_lexer": "ipython3",
   "version": "3.9.2"
  }
 },
 "nbformat": 4,
 "nbformat_minor": 4
}
