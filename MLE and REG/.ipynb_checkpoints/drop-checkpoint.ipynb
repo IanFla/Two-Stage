{
 "cells": [
  {
   "cell_type": "code",
   "execution_count": 1,
   "metadata": {},
   "outputs": [],
   "source": [
    "# from scipy.optimize import NonlinearConstraint as NonlinCons"
   ]
  },
  {
   "cell_type": "code",
   "execution_count": 2,
   "metadata": {},
   "outputs": [],
   "source": [
    "# hessian=lambda zeta: (G.T/(mP+G.dot(zeta))**2).dot(G)/G.shape[1]\n",
    "# cons=NonlinCons(lambda zeta: mP+G.dot(zeta),0,np.inf,jac=lambda zeta: G)\n",
    "#             res=minimize(target,zeta0,method='trust-constr',jac=gradient,hess=hessian,\\\n",
    "#                          constraints=cons,options={'xtol':1e-5,'gtol':1e-5,'maxiter':10000,'verbose':2})"
   ]
  },
  {
   "cell_type": "code",
   "execution_count": 3,
   "metadata": {},
   "outputs": [],
   "source": [
    "import cvxpy as cp"
   ]
  },
  {
   "cell_type": "code",
   "execution_count": 4,
   "metadata": {},
   "outputs": [],
   "source": [
    "zeta=cp.Variable(G.shape[1])\n",
    "logprob=cp.sum(cp.log(mP+G@zeta))\n",
    "obj=cp.Maximize(logprob)\n",
    "cons=[mP+G@zeta>=0]\n",
    "prob=cp.Problem(obj,cons)\n",
    "prob.solve(solver=solver,verbose=True,max_iters=500,feastol_inacc=1e-100)\n",
    "print('Optimization status: {}; final value: {}'.format(prob.status,prob.value))\n",
    "zeta=zeta.value"
   ]
  },
  {
   "cell_type": "code",
   "execution_count": null,
   "metadata": {},
   "outputs": [],
   "source": [
    "begin=dt.now()\n",
    "end=dt.now()\n",
    "print('spent {} seconds'.format((end-begin).seconds))"
   ]
  },
  {
   "cell_type": "code",
   "execution_count": null,
   "metadata": {},
   "outputs": [],
   "source": []
  },
  {
   "cell_type": "code",
   "execution_count": null,
   "metadata": {},
   "outputs": [],
   "source": []
  },
  {
   "cell_type": "code",
   "execution_count": 5,
   "metadata": {},
   "outputs": [
    {
     "name": "stdout",
     "output_type": "stream",
     "text": [
      "[1. 2.]\n"
     ]
    }
   ],
   "source": [
    "import numpy as np\n",
    "from sklearn.linear_model import LinearRegression\n",
    "X = np.array([[1, 1], [1, 2], [2, 2], [2, 3]])\n",
    "# y = 1 * x_0 + 2 * x_1 + 3\n",
    "y = np.dot(X, np.array([1, 2])) + 3\n",
    "reg = LinearRegression().fit(X, y)\n",
    "print(reg.coef_)"
   ]
  },
  {
   "cell_type": "code",
   "execution_count": 15,
   "metadata": {},
   "outputs": [
    {
     "name": "stdout",
     "output_type": "stream",
     "text": [
      "[3. 1. 2.]\n"
     ]
    }
   ],
   "source": [
    "XX=np.hstack([np.ones([4,1]),X])\n",
    "beta=np.linalg.solve(XX.T.dot(XX),XX.T.dot(y))\n",
    "print(beta)"
   ]
  },
  {
   "cell_type": "code",
   "execution_count": null,
   "metadata": {},
   "outputs": [],
   "source": []
  },
  {
   "cell_type": "code",
   "execution_count": null,
   "metadata": {},
   "outputs": [],
   "source": []
  },
  {
   "cell_type": "code",
   "execution_count": null,
   "metadata": {},
   "outputs": [],
   "source": []
  },
  {
   "cell_type": "code",
   "execution_count": null,
   "metadata": {},
   "outputs": [],
   "source": []
  }
 ],
 "metadata": {
  "kernelspec": {
   "display_name": "Python 3",
   "language": "python",
   "name": "python3"
  },
  "language_info": {
   "codemirror_mode": {
    "name": "ipython",
    "version": 3
   },
   "file_extension": ".py",
   "mimetype": "text/x-python",
   "name": "python",
   "nbconvert_exporter": "python",
   "pygments_lexer": "ipython3",
   "version": "3.9.2"
  }
 },
 "nbformat": 4,
 "nbformat_minor": 4
}
